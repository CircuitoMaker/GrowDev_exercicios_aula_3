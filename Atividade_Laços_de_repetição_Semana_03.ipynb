{
  "cells": [
    {
      "cell_type": "markdown",
      "metadata": {
        "id": "v8pFWwviib2C"
      },
      "source": [
        "![Growdev](https://www.growdev.com.br/assets/images/logo_growdev.png)"
      ]
    },
    {
      "cell_type": "markdown",
      "metadata": {
        "id": "6Tkl4_HxifXZ"
      },
      "source": [
        "![Formação Engenharia de Dados](https://d335luupugsy2.cloudfront.net/cms/files/524558/1707226566/$occu5m8t1op)"
      ]
    },
    {
      "cell_type": "markdown",
      "metadata": {
        "id": "ty7Bzyl1i9bN"
      },
      "source": [
        "Este material tem como objetivo incentivar a prática dos conteúdos estudados até o momento, e a pesquisa. Tenha em consideração que o exercício foi pensado para incentivar a prática dos conteúdos estudados até então, porém aprender a pesquisar faz parte do processo de aprendizagem.\n",
        "\n",
        "Fique tranquilo, faça os exercícios com calma, e boa prática!\n"
      ]
    },
    {
      "cell_type": "markdown",
      "metadata": {
        "id": "DU5-yCQwjx3V"
      },
      "source": [
        "#Orientações:\n",
        "\n",
        " - Faça uma copia deste arquivo\n",
        " - Após concluir os exercicios, suba seu exercicio para o GitHub e compartilhe o link no **google** Classroom\n"
      ]
    },
    {
      "cell_type": "markdown",
      "metadata": {
        "id": "EzT810tnlmfE"
      },
      "source": [
        "#Exercícios"
      ]
    },
    {
      "cell_type": "markdown",
      "metadata": {
        "id": "p62-CTXgvn5E"
      },
      "source": [
        "\n",
        "1- Escrever um programa que lê 5 valores para a, um de cada vez, e conta quantos destes valores são negativos, escrevendo esta informação."
      ]
    },
    {
      "cell_type": "code",
      "execution_count": null,
      "metadata": {
        "id": "gU8NkXNYvmZv"
      },
      "outputs": [],
      "source": [
        "negativos = 0\n",
        "for i in range(5):\n",
        "    valor = int(input(f\"Digite o valor numero {i+1}\"))\n",
        "    if valor < 0:\n",
        "     negativos += 1\n",
        "\n",
        "print(f\"Total de {negativos} valores negativos\")    "
      ]
    },
    {
      "cell_type": "markdown",
      "metadata": {
        "id": "_ST1Z4wkjMzJ"
      },
      "source": []
    },
    {
      "cell_type": "markdown",
      "metadata": {
        "id": "59g_B9yRvqYS"
      },
      "source": [
        "2 - A prefeitura de uma cidade fez uma pesquisa entre seus habitantes, coletando dados sobre o salário e número de filhos. A prefeitura deseja saber:\n",
        "\n",
        "a) média do salário da população;\n",
        "\n",
        "b) média do número de filhos;\n",
        "\n",
        "c) maior salário;\n",
        "\n",
        "d) percentual de pessoas com salário até R$2000,00.\n",
        "\n",
        "Escreva um programa que receba as informações necessárias de 5 pessoas conforme a descrição e responda às questões a, b, c e d anteriores.\n"
      ]
    },
    {
      "cell_type": "code",
      "execution_count": null,
      "metadata": {
        "id": "hz6OkEJBv52O"
      },
      "outputs": [],
      "source": [
        "# variáveis\n",
        "soma_salarios = 0\n",
        "soma_filhos = 0\n",
        "maior_salario = 0\n",
        "contador_salario_ate_2000 = 0\n",
        "\n",
        "# Coletando informações de 5 pessoas\n",
        "for i in range(5):\n",
        "    salario = float(input(f\"Digite o salário da pessoa numero {i+1} : R$\"))\n",
        "    numero_filhos = int(input(f\"Digite o número de filhos da pessoa numero {i+1}: \"))\n",
        "    \n",
        "    # Somando o salário e o número de filhos\n",
        "    soma_salarios += salario\n",
        "    soma_filhos += numero_filhos\n",
        "    \n",
        "    # Verificando o maior salário\n",
        "    if salario > maior_salario:\n",
        "        maior_salario = salario\n",
        "    \n",
        "    # Verificando o percentual de pessoas com salário até R$2000,00\n",
        "    if salario <= 2000:\n",
        "        contador_salario_ate_2000 += 1\n",
        "\n",
        "# Calculando as médias\n",
        "media_salarios = soma_salarios / 5\n",
        "media_filhos = soma_filhos / 5\n",
        "\n",
        "# Calculando o percentual de pessoas com salário até R$2000,00\n",
        "percentual_salario_ate_2000 = (contador_salario_ate_2000 / 5) * 100\n",
        "\n",
        "#  resultados\n",
        "print(f\" Média do salário da população: R${media_salarios}\")\n",
        "print(f\" Média do número de filhos: {media_filhos}\")\n",
        "print(f\" Maior salário: R${maior_salario}\")\n",
        "print(f\" Percentual de pessoas com salário até R$2000,00: {percentual_salario_ate_2000}%\")\n"
      ]
    },
    {
      "cell_type": "markdown",
      "metadata": {
        "id": "V-7kNtvtwDN1"
      },
      "source": [
        "3 - Chico tem 1,50 metro e cresce 2 centímetros por ano, enquanto Zé tem 1,10 metro e cresce 3 centímetros por ano. Construa um programa que calcule e imprima quantos anos serão necessários para que Zé seja maior que Chico."
      ]
    },
    {
      "cell_type": "code",
      "execution_count": null,
      "metadata": {
        "id": "Xlx4kqLpwE4L"
      },
      "outputs": [],
      "source": [
        "altura_chico = 150  \n",
        "altura_ze = 110    \n",
        "anos = 0\n",
        "\n",
        "# Enquanto a altura do Zé for menor ou igal à altura de Chico\n",
        "while altura_ze <= altura_chico:\n",
        "    anos += 1\n",
        "    altura_chico += 2\n",
        "    altura_ze += 3\n",
        "\n",
        "print(f\"Serão necessários {anos} anos para que Zé seja maior que Chico\")\n"
      ]
    },
    {
      "cell_type": "markdown",
      "metadata": {
        "id": "BU7x-lumwGRO"
      },
      "source": [
        "4 - Em uma eleição presidencial existem quatro candidatos. Os votos são informados através de códigos. Os dados utilizados para a contagem dos votos obedecem à seguinte codificação:  \n",
        "\n",
        "1,2 = voto para os respectivos candidatos\n",
        "\n",
        "3 = voto nulo\n",
        "\n",
        "4 = voto em branco;\n",
        "\n",
        "Elabore um programa que leia o código de votação de 5 candidatos. Calcule e escreva:\n",
        "total de votos para cada candidato\n",
        "total de votos nulos\n",
        "total de votos em branco\n"
      ]
    },
    {
      "cell_type": "code",
      "execution_count": null,
      "metadata": {
        "id": "tnOkAb44wQo5"
      },
      "outputs": [],
      "source": [
        "votos_candidato1 = 0\n",
        "votos_candidato2 = 0\n",
        "votos_candidato3 = 0\n",
        "votos_candidato4 = 0\n",
        "votos_nulos = 0\n",
        "votos_branco = 0\n",
        "\n",
        "for i in range(5):\n",
        "    voto = int(input(f\"Digite o código de votação do {i+1}º eleitor:\"))\n",
        "    \n",
        "    if voto == 1:\n",
        "        votos_candidato1 += 1\n",
        "    elif voto == 2:\n",
        "        votos_candidato2 += 1\n",
        "    elif voto == 3:\n",
        "        votos_nulos += 1\n",
        "    elif voto == 4:\n",
        "        votos_branco += 1\n",
        "    else:\n",
        "        print(\"Código de votação inválido.\")\n",
        "\n",
        "print(f\"Total de votos para o candidato 1: {votos_candidato1}\")\n",
        "print(f\"Total de votos para o candidato 2: {votos_candidato2}\")\n",
        "print(f\"Total de votos para o candidato 3: {votos_candidato3}\")\n",
        "print(f\"Total de votos para o candidato 4: {votos_candidato4}\")\n",
        "print(f\"Total de votos nulos: {votos_nulos}\")\n",
        "print(f\"Total de votos em branco: {votos_branco}\")\n"
      ]
    },
    {
      "cell_type": "markdown",
      "metadata": {
        "id": "oNyazyHPwzlo"
      },
      "source": [
        "5 - Escreva um programa que receba o nome de 10 pessoas e para cada pessoa, o lugar para o qual ela já viajou. Sendo que existem 3 possibilidades:\n",
        "\n",
        "Rio de Janeiro\n",
        "\n",
        "Bahia\n",
        "\n",
        "Minas Gerais\n",
        "\n",
        "Após, informar qual foi o destino mais visitado e qual o menos visitado.\n"
      ]
    },
    {
      "cell_type": "code",
      "execution_count": null,
      "metadata": {
        "id": "FzTr2EY1w2Ey"
      },
      "outputs": [],
      "source": [
        "contagem_rio = 0\n",
        "contagem_bahia = 0\n",
        "contagem_minas_gerais = 0\n",
        "\n",
        "for i in range(10):\n",
        "    nome = input(f\"Digite o nome da pessoa numero {i+1}\")\n",
        "    destino = input(f\"Digite o destino visitado por {nome}:\")\n",
        "    \n",
        "    # Verificando o destino visitado e incrementando o contador correto\n",
        "    if destino == 'Rio de Janeiro':\n",
        "        contagem_rio += 1\n",
        "    elif destino == 'Bahia':\n",
        "        contagem_bahia += 1\n",
        "    elif destino == 'Minas Gerais':\n",
        "        contagem_minas_gerais += 1\n",
        "    else:\n",
        "        print(\"Destino inválido.\")\n",
        "\n",
        "#  mais visitado\n",
        "if contagem_rio >= contagem_bahia and contagem_rio >= contagem_minas_gerais:\n",
        "    destino_mais_visitado = 'Rio de Janeiro'\n",
        "elif contagem_bahia >= contagem_rio and contagem_bahia >= contagem_minas_gerais:\n",
        "    destino_mais_visitado = 'Bahia'\n",
        "else:\n",
        "    destino_mais_visitado = 'Minas Gerais'\n",
        "\n",
        "#  menos visitado\n",
        "if contagem_rio <= contagem_bahia and contagem_rio <= contagem_minas_gerais:\n",
        "    destino_menos_visitado = 'Rio de Janeiro'\n",
        "elif contagem_bahia <= contagem_rio and contagem_bahia <= contagem_minas_gerais:\n",
        "    destino_menos_visitado = 'Bahia'\n",
        "else:\n",
        "    destino_menos_visitado = 'Minas Gerais'\n",
        "\n",
        "print(f\"O lugar mais visitado foi: {destino_mais_visitado}\")\n",
        "print(f\"O lugar menos visitado foi: {destino_menos_visitado}\")\n"
      ]
    },
    {
      "cell_type": "markdown",
      "metadata": {
        "id": "HVJPsqTcw95-"
      },
      "source": [
        "6 -  A série de Fibonacci é formada pela sequência 1,1,2,3,5,8,13,21,34,55,... Faça um programa capaz de gerar a série até o n−ésimo termo."
      ]
    },
    {
      "cell_type": "code",
      "execution_count": null,
      "metadata": {
        "id": "ZwgmpSgGw-v3"
      },
      "outputs": [],
      "source": [
        "n = int(input(\"Digite o valor de N para gerar a série de Fibonacci: \"))\n",
        "\n",
        "termo_anterior = 1\n",
        "termo_atual = 1\n",
        "\n",
        "print(f\"Série de Fibonacci até o {n}-ésimo termo:\")\n",
        "if n >= 1:\n",
        "    print(1)\n",
        "if n >= 2:\n",
        "    print(1)\n",
        "\n",
        "for _ in range(2, n):\n",
        "    proximo_termo = termo_anterior + termo_atual\n",
        "    print(proximo_termo)\n",
        "    termo_anterior, termo_atual = termo_atual, proximo_termo\n",
        "\n"
      ]
    },
    {
      "cell_type": "markdown",
      "metadata": {
        "id": "DaF7vXEWxB6R"
      },
      "source": [
        "7 - Escreva um programa que conte em ordem reversa, de 25 a zero."
      ]
    },
    {
      "cell_type": "code",
      "execution_count": null,
      "metadata": {
        "id": "2AYe_lX2xCdj"
      },
      "outputs": [],
      "source": [
        "for x in range(25, -1, -1):\n",
        " print(x)"
      ]
    },
    {
      "cell_type": "markdown",
      "metadata": {
        "id": "Oc2yjIGqxF3h"
      },
      "source": [
        "8 - Crie um programa para que retorne o somatório de todos os números entre 1 e um valor fornecido pelo usuário. Por exemplo, se o usuário fornecer o número 4, o computador deverá calcular o somatório 1+ 2 + 3 + 4 = 10."
      ]
    },
    {
      "cell_type": "code",
      "execution_count": null,
      "metadata": {
        "id": "m5gfIfomxGwe"
      },
      "outputs": [],
      "source": [
        "numero = int(input(\"Digite um número: \"))\n",
        "\n",
        "soma = 0\n",
        "\n",
        "# Calculan a soma de 1 até o número digitado\n",
        "for i in range(1, numero + 1):\n",
        "    soma += i\n",
        "\n",
        "print(f\"A soma de todos os números de 1 até {numero} é = {soma}\")\n"
      ]
    },
    {
      "cell_type": "markdown",
      "metadata": {
        "id": "5D368hETyJQh"
      },
      "source": [
        "9 - Escreva um programa que leia a idade e salário de 10 pessoas. Informe em seguida:\n",
        "Qual é a média de idade entre as pessoas?\n",
        "Quantas pessoas há por faixa etária, considerando:\n",
        "jovens < 18\n",
        "18 <= adultos < 60\n",
        "idosos >= 60\n",
        "Em seguida, mostre qual é a faixa etária que acumula o maior salário.\n"
      ]
    },
    {
      "cell_type": "code",
      "execution_count": null,
      "metadata": {
        "id": "zZsS7JHm0UY6"
      },
      "outputs": [],
      "source": [
        "total_idade = 0\n",
        "jovens = 0\n",
        "adultos = 0\n",
        "idosos = 0\n",
        "salario_jovens = 0\n",
        "salario_adultos = 0\n",
        "salario_idosos = 0\n",
        "\n",
        "for i in range(10):\n",
        "    idade = int(input(f\"Digite a idade da pessoa numero {i+1}\"))\n",
        "    salario = float(input(f\"Digite o salário da pessoa numero {i+1}\"))\n",
        "\n",
        "    total_idade += idade\n",
        "\n",
        "    if idade < 18:\n",
        "        jovens += 1\n",
        "        salario_jovens += salario\n",
        "    elif idade < 60:\n",
        "        adultos += 1\n",
        "        salario_adultos += salario\n",
        "    else:\n",
        "        idosos += 1\n",
        "        salario_idosos += salario\n",
        "\n",
        "media_idade = total_idade / 10\n",
        "\n",
        "faixa_etaria_maior_salario = \"\"\n",
        "\n",
        "if salario_jovens >= salario_adultos and salario_jovens >= salario_idosos:\n",
        "    faixa_etaria_maior_salario = \"jovens (<18)\"\n",
        "elif salario_adultos >= salario_jovens and salario_adultos >= salario_idosos:\n",
        "    faixa_etaria_maior_salario = \"adultos (18-59)\"\n",
        "else:\n",
        "    faixa_etaria_maior_salario = \"idosos (>=60)\"\n",
        "\n",
        "# resultado\n",
        "print(f\"Média de idade: {media_idade}\")\n",
        "print(\"Quantidade de pessoas por faixa etária:\")\n",
        "print(f\"Jovens: {jovens}\")\n",
        "print(f\"Adultos: {adultos}\")\n",
        "print(f\"Idosos: {idosos}\")\n",
        "print(f\"Faixa etária com maior salário acumulado: {faixa_etaria_maior_salario}\")\n",
        "\n"
      ]
    },
    {
      "cell_type": "markdown",
      "metadata": {
        "id": "L4xlYJzdhZyV"
      },
      "source": [
        "10 - Crie uma calculadora simples que realiza operações de adição, subtração, multiplicação, divisão e exponenciação. O programa deve continuar pedindo operações até que o usuário escolha sair.Exemplo de saída:"
      ]
    },
    {
      "cell_type": "code",
      "execution_count": null,
      "metadata": {
        "id": "t1GTUaOshazK"
      },
      "outputs": [],
      "source": [
        "escolha = 0 \n",
        "\n",
        "while escolha != \"S\" and escolha != \"s\":\n",
        "\n",
        "    print(\" \")# linha em branco\n",
        "    print(\"Escolha a operação:\")\n",
        "    print(\"1 - Adição\")\n",
        "    print(\"2 - Subtração\")\n",
        "    print(\"3 - Multiplicação\")\n",
        "    print(\"4 - Divisão\")\n",
        "    print(\"5 - Exponenciação\")\n",
        "    print(\"S - Sair\")\n",
        "    \n",
        "    escolha = input(\"Digite o número da operação desejada: \")\n",
        "\n",
        "    if escolha != \"S\" and escolha != \"s\":\n",
        "     numero1 = float(input(\"Digite o primeiro número: \"))\n",
        "     numero2 = float(input(\"Digite o segundo número: \"))\n",
        "\n",
        "    # Realizando a operação escolhida\n",
        "    if escolha == \"1\":\n",
        "        resultado = numero1 + numero2\n",
        "        print(\"Resultado:\", resultado)\n",
        "    elif escolha == \"2\":\n",
        "        resultado = numero1 - numero2\n",
        "        print(\"Resultado:\", resultado)\n",
        "    elif escolha == \"3\":\n",
        "        resultado = numero1 * numero2\n",
        "        print(\"Resultado:\", resultado)\n",
        "    elif escolha == \"4\":\n",
        "        if numero2 == 0:\n",
        "            print(\"Erro! Não é possível dividir por zero.\")\n",
        "        else:\n",
        "            resultado = numero1 / numero2\n",
        "            print(\"Resultado:\", resultado)\n",
        "    elif escolha == \"5\":\n",
        "        resultado = numero1 ** numero2\n",
        "        print(\"Resultado:\", resultado)\n",
        "\n",
        "print(\"Você saiu do programa!\")"
      ]
    },
    {
      "cell_type": "markdown",
      "metadata": {
        "id": "TvOVLvpYhohk"
      },
      "source": [
        "11 - Crie um jogo em que o computador escolha um número aleatório entre 1 e 100, e o jogador tenta adivinhá-lo. O programa deve dar dicas se o número é maior ou menor do que o número digitado pelo jogador. O jogo continua até que o jogador acerte o número."
      ]
    },
    {
      "cell_type": "markdown",
      "metadata": {
        "id": "GMjNhBcxo3ks"
      },
      "source": [
        "Exemplo de saída:\n",
        "\n",
        "Bem-vindo ao jogo de adivinhação!\n",
        "\n",
        "Tente adivinhar o número entre 1 e 100.\n",
        "\n",
        "Digite sua tentativa: 50\n",
        "\n",
        "O número é menor.\n",
        "\n",
        "Digite sua tentativa: 75\n",
        "\n",
        "O número é maior.\n",
        "\n",
        "Digite sua tentativa: 63\n",
        "\n",
        "O número é menor.\n",
        "\n",
        "Digite sua tentativa: 68\n",
        "\n",
        "Parabéns! Você acertou o número 68 em 4 tentativas!"
      ]
    },
    {
      "cell_type": "code",
      "execution_count": null,
      "metadata": {
        "id": "wD7WVTzdh3Tf"
      },
      "outputs": [],
      "source": [
        "import random\n",
        "\n",
        "print(\"Tente adivinhar o número entre 1 e 100.\")\n",
        "\n",
        "# Gera um número aleatório\n",
        "numero_secreto = random.randint(1, 100)\n",
        "\n",
        "tentativas = 0\n",
        "while True:\n",
        "    tentativa = int(input(\"Digite sua tentativa: \"))\n",
        "\n",
        "    if tentativa == numero_secreto:\n",
        "        tentativas += 1\n",
        "        print(f\"Você acertou o número {numero_secreto} em {tentativas} tentativas!\")\n",
        "        break\n",
        "    elif tentativa < numero_secreto:\n",
        "        tentativas += 1\n",
        "        print(\"O número é maior.\")\n",
        "    else:\n",
        "        tentativas += 1\n",
        "        print(\"O número é menor.\")\n"
      ]
    },
    {
      "cell_type": "markdown",
      "metadata": {
        "id": "528JJZodmafY"
      },
      "source": [
        "12 - Escreva um programa que calcula o valor de um investimento após um número específico de anos, considerando juros compostos. O usuário deve fornecer o principal (valor inicial do investimento), a taxa de juros anual (em porcentagem) e o número de anos.\n",
        "\n",
        "A fórmula para calcular o valor de um investimento após n anos com juros compostos é:\n",
        "\n",
        "A=P×(1+r)^n\n",
        "\n",
        "\n",
        "Onde:\n",
        "\n",
        "\n",
        "A é o valor do investimento após n anos,\n",
        "\n",
        "P é o principal (valor inicial do investimento),\n",
        "\n",
        "r é a taxa de juros anual (em decimal), e\n",
        "\n",
        "n é o número de anos."
      ]
    },
    {
      "cell_type": "markdown",
      "metadata": {
        "id": "-6opTpcXoxNw"
      },
      "source": [
        "\n",
        "Exemplo de saída:\n",
        "\n",
        "Digite o principal (R$): 1000\n",
        "\n",
        "Digite a taxa de juros anual (%): 5\n",
        "\n",
        "Digite o número de anos: 10\n",
        "\n",
        "O valor do investimento após 10 anos é: R$ 1628.89"
      ]
    },
    {
      "cell_type": "code",
      "execution_count": null,
      "metadata": {
        "id": "3XHAThk1oFIT"
      },
      "outputs": [],
      "source": [
        "principal = float(input(\"Digite o principal (R$): \"))\n",
        "taxa_juros_anual = float(input(\"Digite a taxa de juros anual (%): \"))\n",
        "anos = int(input(\"Digite o número de anos: \"))\n",
        "\n",
        "# Converte a taxa de juros anual para decimal\n",
        "taxa_juros_decimal = taxa_juros_anual / 100\n",
        "\n",
        "#  valor do investimento após o número de \"x\" anos\n",
        "valor_investimento = principal * (1 + taxa_juros_decimal) ** anos\n",
        "\n",
        "print(f\"O valor do investimento após {anos} anos é: R$ {valor_investimento}\")\n"
      ]
    }
  ],
  "metadata": {
    "colab": {
      "provenance": []
    },
    "kernelspec": {
      "display_name": "Python 3",
      "name": "python3"
    },
    "language_info": {
      "codemirror_mode": {
        "name": "ipython",
        "version": 3
      },
      "file_extension": ".py",
      "mimetype": "text/x-python",
      "name": "python",
      "nbconvert_exporter": "python",
      "pygments_lexer": "ipython3",
      "version": "3.11.7"
    }
  },
  "nbformat": 4,
  "nbformat_minor": 0
}
